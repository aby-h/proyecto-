{
  "nbformat": 4,
  "nbformat_minor": 0,
  "metadata": {
    "colab": {
      "private_outputs": true,
      "provenance": [],
      "toc_visible": true
    },
    "kernelspec": {
      "name": "python3",
      "display_name": "Python 3"
    },
    "language_info": {
      "name": "python"
    }
  },
  "cells": [
    {
      "cell_type": "code",
      "execution_count": null,
      "metadata": {
        "id": "1udponN6mpB_"
      },
      "outputs": [],
      "source": [
        "import numpy as np\n",
        "\n",
        "# Definición de la clase GraficayRed para manejar grafos y redes\n",
        "class GraficayRed:\n",
        "    def __init__(self, nodos, enlaces):\n",
        "       \"\"\"Definicion del constructor\"\"\"\n",
        "       self.nodos = nodos  # Es la lista de nodos(paginas web)\n",
        "       self.enlaces = enlaces #Es la lista de enlaces como tuplas(es origen,\n",
        "                                                                    # destino)\n",
        "       self.matriz = self._crear_matriz_adyacencia() # Crear matriz de\n",
        "                                                           #adyacencia\n",
        "\n",
        "    def _crear_matriz_adyacencia(self):\n",
        "        \"\"\"\n",
        "        Se crea la matriz de adyacencia a partir de los nodos y enlaces.\n",
        "        La matriz indicara la conexión entre los nodos, donde matriz[i][j] es\n",
        "         el número de enlaces desde el nodo i al nodo j.\n",
        "\n",
        "        Returns:\n",
        "            np.ndarray: Matriz de adyacencia (n x n), donde n es el número de\n",
        "            nodos.\n",
        "        \"\"\"\n",
        "        n = len(self.nodos)  # Nos da el número de nodos\n",
        "        matriz = np.zeros((n, n))  # Inicializa la matriz de ceros\n",
        "        for (origen, destino) in self.enlaces:\n",
        "            matriz[origen - 1][destino - 1] += 1  # Incrementa por cada enlace\n",
        "                                                   #(origen -> destino)\n",
        "        return matriz\n",
        "\n",
        "    def obtener_matriz_probabilidad(self):\n",
        "        \"\"\"\n",
        "        Lo que hara sera convertir la matriz de adyacencia en una matriz de\n",
        "         probabilidad.\n",
        "        Cada columna se normaliza dividiendo por la suma de sus valores,\n",
        "        de modo que representen probabilidades.\n",
        "\n",
        "        Returns:\n",
        "            np.ndarray: Matriz de probabilidad (n x n).\n",
        "        \"\"\"\n",
        "        n = len(self.nodos)\n",
        "        matriz = self.matriz.copy()# Nos dara la copia d la matriz de adyacencia\n",
        "        for j in range(n):\n",
        "            suma_columna = np.sum(matriz[:, j])  # Suma los valores de la\n",
        "                                                   #columna j\n",
        "            if suma_columna > 0:\n",
        "                matriz[:, j] /= suma_columna  # Normaliza la columna\n",
        "                                                # dividiendo por la suma\n",
        "        return matriz\n",
        "\n",
        "\n"
      ]
    },
    {
      "cell_type": "code",
      "source": [
        "# Clase que implementa el algoritmo PageRank\n",
        "class PageRank:\n",
        "    def __init__(self, red, d=0.85):\n",
        "        \"\"\"\n",
        "        Definicion del constructor de la clase PageRank.\n",
        "        Inicializa el cálculo con la red dada y el factor de amortiguamiento d.\n",
        "\n",
        "        Args:\n",
        "            red (GraficayRed): Objeto que representa la red.\n",
        "            d (float): Factor de amortiguamiento (por defecto, 0.85).\n",
        "        \"\"\"\n",
        "        self.red = red  # Red (gráfico) proporcionado\n",
        "        self.d = d  # Factor de amortiguamiento\n",
        "        self.n = len(red.nodos)  # Número de nodos en la red\n",
        "        self.matriz_proba = red.obtener_matriz_probabilidad()  # Matriz de\n",
        "                                                                 #probabilidad\n",
        "        self.matriz_transicion = self._crear_matriz_transicion()  # Matriz de\n",
        "                                                                    #transición\n",
        "\n",
        "    def _crear_matriz_de_transicion(self):\n",
        "        \"\"\"\n",
        "        Crea la matriz de transición utilizada en el cálculo del PageRank.\n",
        "        Aplica el factor de amortiguamiento d para combinar la matriz de\n",
        "        probabilidad y la matriz uniforme.\n",
        "\n",
        "        Returns:\n",
        "            np.ndarray: Matriz de transición ajustada (n x n).\n",
        "        \"\"\"\n",
        "        U = np.ones((self.n, self.n)) / self.n  # Matriz uniforme donde todos\n",
        "                                                        # los valores son 1/n\n",
        "        return self.d * self.matriz_proba + (1 - self.d) * U  # Combina probabi\n",
        "                                                    #-lidad y amortiguamiento\n",
        "\n",
        "    def calcular_pagerank(self, iteraciones=100, tol=1e-6, vector_inicial=None):\n",
        "        \"\"\"\n",
        "        Calcula el PageRank utilizando un método iterativo.\n",
        "\n",
        "        Args:\n",
        "            iteraciones (int): Número máximo de iteraciones (por defecto, 100).\n",
        "            tol (float): Tolerancia para determinar la convergencia\n",
        "             (por defecto, 1e-6).\n",
        "            vector_inicial (np.ndarray): Vector inicial para el cálculo\n",
        "            (por defecto, uniforme).\n",
        "\n",
        "        Returns:\n",
        "            np.ndarray: Vector de PageRank con los valores finales para cada\n",
        "             nodo.\n",
        "        \"\"\"\n",
        "        if vector_inicial is None:\n",
        "            vector_inicial = np.ones(self.n) / self.n  # Vector inicial uniforme\n",
        "        vector_actual = vector_inicial  # Inicializa el vector actual\n",
        "        for _ in range(iteraciones):\n",
        "            nuevo_vector = np.dot(vector_actual, self.matriz_transicion)\n",
        "             # Multiplicación vector-matriz\n",
        "            # Verifica la convergencia comparando el cambio en norma 1\n",
        "            if np.linalg.norm(nuevo_vector - vector_actual, 1) < tol:\n",
        "                break  # Detiene si la diferencia es menor a la tolerancia\n",
        "            vector_actual = nuevo_vector  # Actualiza el vector para la\n",
        "                                               #próxima iteración\n",
        "        return vector_actual\n"
      ],
      "metadata": {
        "id": "KKoxif6-wfbw"
      },
      "execution_count": null,
      "outputs": []
    },
    {
      "cell_type": "markdown",
      "source": [
        "**PREGUNTAS**\n",
        "\n",
        "(I) ¿Cual es la pagina web mas importante segun el algoritmo si se inicia con el vector (1/n,...,1/n)?"
      ],
      "metadata": {
        "id": "2bY4H2y15xEb"
      }
    },
    {
      "cell_type": "code",
      "source": [
        "import pandas as pd\n",
        "import numpy as np\n",
        "from google.colab import  drive\n",
        "\n",
        "#  Leer los datos del archivo Excel\n",
        "# Cargamos los datos del archivo proporcionado utilizando pandas\n",
        "archivo_excel = (\"/content/mnt/MyDrive/Web.xlsx\")  # Ruta al archivo Excel\n",
        "                                                     #proporcionado\n",
        "data = pd.read_csv(archivo_excel, skiprows=0, sep=\"\\t\", names=[\"Website\", \"Index\", \"Cited by\"])\n",
        "\n",
        "#  Procesar los datos para extraer los nodos y enlaces\n",
        "# Creamos la lista de nodos (índices de las páginas web)\n",
        "nodos = data[\"Index\"].tolist()\n",
        "\n",
        "# Crear los enlaces desde los datos de la columna \"Cited by\"\n",
        "enlaces = []\n",
        "for _, row in data.iterrows():\n",
        "    origen = row[\"Index\"]  # Índice de la página origen\n",
        "    destinos = str(row[\"Cited by\"]).split(\",\")  # Dividimos las páginas citadas\n",
        "    for destino in destinos:\n",
        "        if destino.isdigit():  # Aseguramos que el destino es un índice válido\n",
        "            enlaces.append((int(origen), int(destino.strip())))\n",
        "\n",
        "#  Crear la red (grafo) utilizando la clase GraficayRed\n",
        "red = GraficayRed(nodos, enlaces)\n",
        "\n",
        "#  Inicializar el cálculo de PageRank\n",
        "# Usamos el valor por defecto de d=0.85 y el vector inicial uniforme\n",
        "pagerank = PageRank(red)\n",
        "\n",
        "# Calcular el PageRank\n",
        "resultado = pagerank.calcular_pagerank()\n",
        "\n",
        "#  Identificar la página más importante\n",
        "pagina_importante = nodos[np.argmax(resultado)]  # Índice de la página con\n",
        "                                                   #el mayor PageRank\n",
        "valor_pagerank = resultado[np.argmax(resultado)]  # Valor de PageRank más alto\n",
        "\n",
        "#  Mostrar el resultado\n",
        "print(f\"La página más importante es la número {pagina_importante}, con un PageRank de {valor_pagerank:.4f}.\")\n",
        "\n",
        "\n",
        "\n"
      ],
      "metadata": {
        "id": "IkurHwu7_Hfi"
      },
      "execution_count": null,
      "outputs": []
    },
    {
      "cell_type": "markdown",
      "source": [
        "(ii) Defina ahora un vector n de la siguiente forma:"
      ],
      "metadata": {
        "id": "k4zie0TmG_zd"
      }
    },
    {
      "cell_type": "code",
      "source": [
        "#  Crear un vector inicial que priorice las páginas \".ru\"\n",
        "# Iniciamos con un vector de ceros\n",
        "vector_inicial = np.zeros(len(nodos))\n",
        "\n",
        "# Lista de páginas con dominio \".ru\" (de acuerdo con el archivo Excel)\n",
        "pags_ru = [16, 17, 18, 19, 20, 21, 22, 23, 24, 25]  # Índices de las páginas \".ru\"\n",
        "s = len(pags_ru)  # Número total de páginas \".ru\"\n",
        "\n",
        "# Asignamos peso uniforme a las páginas \".ru\"\n",
        "for pag in pags_ru:\n",
        "    vector_inicial[pag - 1] = 1 / s  # Distribuimos entre todas las páginas \".ru\"\n",
        "\n",
        "#  Calcular el PageRank usando este vector inicial\n",
        "resultado_ru = pagerank.calcular_pagerank(vector_inicial=vector_inicial)\n",
        "\n",
        "#  Encontrar la página más importante\n",
        "pagina_importante_ru = nodos[np.argmax(resultado_ru)]\n",
        "\n",
        "# Imprimimos el resultado\n",
        "print(f\"La página más importante con prioridad a '.ru' es la número {pagina_importante_ru}, con un PageRank de {resultado_ru[np.argmax(resultado_ru)]:.4f}.\")\n",
        "\n"
      ],
      "metadata": {
        "id": "c5QlnccOHXc3"
      },
      "execution_count": null,
      "outputs": []
    },
    {
      "cell_type": "markdown",
      "source": [
        "(iii)"
      ],
      "metadata": {
        "id": "l0VNS_oBHjcS"
      }
    },
    {
      "cell_type": "code",
      "source": [
        "# Valores de d a probar\n",
        "valores_d = [0.5, 0.85, 1.0]\n",
        "\n",
        "# Iteramos sobre cada valor de d\n",
        "for d in valores_d:\n",
        "    # Inicializamos el PageRank con el valor actual de d\n",
        "    pagerank_d = PageRank(red, d=d)\n",
        "\n",
        "    # Calculamos el PageRank con vector inicial uniforme\n",
        "    resultado_d = pagerank_d.calcular_pagerank()\n",
        "\n",
        "    # Encontramos la página más importante para este valor de d\n",
        "    pagina_importante_d = nodos[np.argmax(resultado_d)]\n",
        "\n",
        "    # Imprimimos el resultado para este valor de d\n",
        "    print(f\"Con d={d}, la página más importante es la número {pagina_importante_d}, con un PageRank de {resultado_d[np.argmax(resultado_d)]:.4f}.\")\n"
      ],
      "metadata": {
        "id": "0CKGb241HmMV"
      },
      "execution_count": null,
      "outputs": []
    }
  ]
}